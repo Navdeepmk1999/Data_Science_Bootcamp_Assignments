{
  "nbformat": 4,
  "nbformat_minor": 0,
  "metadata": {
    "colab": {
      "provenance": []
    },
    "kernelspec": {
      "name": "python3",
      "display_name": "Python 3"
    },
    "language_info": {
      "name": "python"
    }
  },
  "cells": [
    {
      "cell_type": "markdown",
      "source": [
        "## Data science bootcamp - Week 2 - Navdeep Mugathihalli Kumaregowda - nm4686"
      ],
      "metadata": {
        "id": "pKLFN1o7lOhw"
      }
    },
    {
      "cell_type": "markdown",
      "source": [
        "## HW Questions (Numpy):"
      ],
      "metadata": {
        "id": "McQ0GDhfln9g"
      }
    },
    {
      "cell_type": "markdown",
      "source": [
        "### 1.Define two custom numpy arrays, say A and B. Generate two new numpy arrays by stacking A and B vertically and horizontally."
      ],
      "metadata": {
        "id": "V6jVXNk4ltps"
      }
    },
    {
      "cell_type": "code",
      "execution_count": 3,
      "metadata": {
        "colab": {
          "base_uri": "https://localhost:8080/"
        },
        "id": "FAgyolzKktNw",
        "outputId": "f367471a-e4b4-4a48-fef3-52e110ab7af8"
      },
      "outputs": [
        {
          "output_type": "stream",
          "name": "stdout",
          "text": [
            "Array A:\n",
            " [[1 2 3]\n",
            " [4 5 6]]\n",
            "\n",
            "Array B:\n",
            " [[ 7  8  9]\n",
            " [10 11 12]]\n",
            "\n",
            " Vertically Stacked Array (A on top of B) \n",
            "[[ 1  2  3]\n",
            " [ 4  5  6]\n",
            " [ 7  8  9]\n",
            " [10 11 12]]\n",
            "\n",
            " Horizontally Stacked Array (A next to B) \n",
            "[[ 1  2  3  7  8  9]\n",
            " [ 4  5  6 10 11 12]]\n"
          ]
        }
      ],
      "source": [
        "import numpy as np\n",
        "\n",
        "A = np.array([[1, 2, 3],\n",
        "              [4, 5, 6]])\n",
        "\n",
        "B = np.array([[7, 8, 9],\n",
        "              [10, 11, 12]])\n",
        "\n",
        "print(\"Array A:\\n\", A)\n",
        "print(\"\\nArray B:\\n\", B)\n",
        "\n",
        "\n",
        "vertical_stack = np.vstack((A, B))\n",
        "\n",
        "print(\"\\n Vertically Stacked Array (A on top of B) \")\n",
        "print(vertical_stack)\n",
        "\n",
        "\n",
        "horizontal_stack = np.hstack((A, B))\n",
        "\n",
        "print(\"\\n Horizontally Stacked Array (A next to B) \")\n",
        "print(horizontal_stack)"
      ]
    },
    {
      "cell_type": "markdown",
      "source": [
        "### 2.Find common elements between A and B. [Hint : Intersection of two sets]"
      ],
      "metadata": {
        "id": "SRCBWYUOnI-G"
      }
    },
    {
      "cell_type": "code",
      "source": [
        "import numpy as np\n",
        "\n",
        "A = np.array([[1, 2, 3],\n",
        "              [4, 5, 6]])\n",
        "\n",
        "B = np.array([[5, 6, 7],\n",
        "              [8, 9, 10]])\n",
        "\n",
        "\n",
        "common_elements = np.intersect1d(A, B)\n",
        "\n",
        "\n",
        "print(f\"\\nCommon elements between A and B: {common_elements}\")"
      ],
      "metadata": {
        "colab": {
          "base_uri": "https://localhost:8080/"
        },
        "id": "F5hFKVhRnz6C",
        "outputId": "16bdfa1c-c24d-4830-e537-7b2b51dc0c58"
      },
      "execution_count": 4,
      "outputs": [
        {
          "output_type": "stream",
          "name": "stdout",
          "text": [
            "\n",
            "Common elements between A and B: [5 6]\n"
          ]
        }
      ]
    },
    {
      "cell_type": "markdown",
      "source": [
        "### 3. Extract all numbers from A which are within a specific range. eg between 5 and 10. [Hint: np.where() might be useful or boolean masks"
      ],
      "metadata": {
        "id": "SmmGUPQfpGbc"
      }
    },
    {
      "cell_type": "code",
      "source": [
        "import numpy as np\n",
        "\n",
        "A = np.array([[1, 2, 3],\n",
        "              [4, 5, 6]])\n",
        "\n",
        "\n",
        "mask = (A >= 5) & (A <= 10)\n",
        "\n",
        "print(\"Boolean Mask\")\n",
        "print(mask)\n",
        "\n",
        "\n",
        "result = A[mask]\n",
        "\n",
        "print(\"\\n Numbers in A between 5 and 10 \")\n",
        "print(result)"
      ],
      "metadata": {
        "colab": {
          "base_uri": "https://localhost:8080/"
        },
        "id": "qzeog74upF9N",
        "outputId": "2db8bd58-09bd-4024-a1bf-58557a2f7634"
      },
      "execution_count": 6,
      "outputs": [
        {
          "output_type": "stream",
          "name": "stdout",
          "text": [
            "Boolean Mask\n",
            "[[False False False]\n",
            " [False  True  True]]\n",
            "\n",
            " Numbers in A between 5 and 10 \n",
            "[5 6]\n"
          ]
        }
      ]
    },
    {
      "cell_type": "markdown",
      "source": [
        "### 4.Filter the rows of iris_2d that has petallength (3rd column) > 1.5 and sepallength (1st column) < 5.0\n",
        "\n",
        "url = 'https://archive.ics.uci.edu/ml/machine-learning-databases/iris/iris.data'\n",
        "iris_2d = np.genfromtxt(url, delimiter=',', dtype='float', usecols=[0,1,2,3]"
      ],
      "metadata": {
        "id": "8XUDrMY9qLGs"
      }
    },
    {
      "cell_type": "code",
      "source": [
        "import numpy as np\n",
        "\n",
        "url = 'https://archive.ics.uci.edu/ml/machine-learning-databases/iris/iris.data'\n",
        "iris_2d = np.genfromtxt(url, delimiter=',', dtype='float', usecols=[0,1,2,3])"
      ],
      "metadata": {
        "id": "NhG97nbxqYKZ"
      },
      "execution_count": 7,
      "outputs": []
    },
    {
      "cell_type": "code",
      "source": [
        "mask = (iris_2d[:, 2] > 1.5) & (iris_2d[:, 0] < 5.0)\n",
        "\n",
        "filtered_iris = iris_2d[mask]\n",
        "\n",
        "print(\" Filtered Iris Data \")\n",
        "print(filtered_iris)"
      ],
      "metadata": {
        "colab": {
          "base_uri": "https://localhost:8080/"
        },
        "id": "CrmSnFGxrCQx",
        "outputId": "46d97d2e-c81c-4a93-fd68-45af8aaa45d4"
      },
      "execution_count": 8,
      "outputs": [
        {
          "output_type": "stream",
          "name": "stdout",
          "text": [
            " Filtered Iris Data \n",
            "[[4.8 3.4 1.6 0.2]\n",
            " [4.8 3.4 1.9 0.2]\n",
            " [4.7 3.2 1.6 0.2]\n",
            " [4.8 3.1 1.6 0.2]\n",
            " [4.9 2.4 3.3 1. ]\n",
            " [4.9 2.5 4.5 1.7]]\n"
          ]
        }
      ]
    },
    {
      "cell_type": "markdown",
      "source": [
        "## HW Questions (Pandas):"
      ],
      "metadata": {
        "id": "ZckIN2Ajrgta"
      }
    },
    {
      "cell_type": "markdown",
      "source": [
        "### 1.From df filter the 'Manufacturer', 'Model' and 'Type' for every 20th row starting from 1st (row 0).\n",
        "df = pd.read_csv('https://raw.githubusercontent.com/selva86/datasets/master/Cars93_miss.csv')"
      ],
      "metadata": {
        "id": "4_zfjYuGrk-v"
      }
    },
    {
      "cell_type": "code",
      "source": [
        "import pandas as pd\n",
        "df = pd.read_csv('https://raw.githubusercontent.com/selva86/datasets/master/Cars93_miss.csv')\n",
        "\n",
        "\n",
        "result = df.iloc[::20, [0, 1, 2]]\n",
        "\n",
        "print(result)"
      ],
      "metadata": {
        "colab": {
          "base_uri": "https://localhost:8080/"
        },
        "id": "3oeWofuRr-se",
        "outputId": "54a54e76-370e-4602-87ca-be0311a73dfd"
      },
      "execution_count": 9,
      "outputs": [
        {
          "output_type": "stream",
          "name": "stdout",
          "text": [
            "   Manufacturer    Model     Type\n",
            "0         Acura  Integra    Small\n",
            "20     Chrysler  LeBaron  Compact\n",
            "40        Honda  Prelude   Sporty\n",
            "60      Mercury   Cougar  Midsize\n",
            "80       Subaru   Loyale    Small\n"
          ]
        }
      ]
    },
    {
      "cell_type": "markdown",
      "source": [
        "### 2.Replace missing values in Min.Price and Max.Price columns with their respective mean.\n",
        "df = pd.read_csv('https://raw.githubusercontent.com/selva86/datasets/master/Cars93_miss.csv')"
      ],
      "metadata": {
        "id": "fxETNhyAs1yy"
      }
    },
    {
      "cell_type": "code",
      "source": [
        "import pandas as pd\n",
        "\n",
        "url = 'https://raw.githubusercontent.com/selva86/datasets/master/Cars93_miss.csv'\n",
        "df = pd.read_csv(url)\n",
        "\n",
        "\n",
        "print(\" Missing Values Before \")\n",
        "print(df[['Min.Price', 'Max.Price']].isnull().sum())"
      ],
      "metadata": {
        "colab": {
          "base_uri": "https://localhost:8080/"
        },
        "id": "iFgnWMWFs9YI",
        "outputId": "c6b6dc58-9b31-4e9e-e8c4-0a78c9e6007d"
      },
      "execution_count": 12,
      "outputs": [
        {
          "output_type": "stream",
          "name": "stdout",
          "text": [
            " Missing Values Before \n",
            "Min.Price    7\n",
            "Max.Price    5\n",
            "dtype: int64\n"
          ]
        }
      ]
    },
    {
      "cell_type": "code",
      "source": [
        "min_price_mean = df['Min.Price'].mean()\n",
        "max_price_mean = df['Max.Price'].mean()\n",
        "\n",
        "fill_values = {'Min.Price': min_price_mean, 'Max.Price': max_price_mean}\n",
        "\n",
        "\n",
        "df.fillna(value=fill_values, inplace=True)\n",
        "\n",
        "print(\"\\n Missing Values After \")\n",
        "print(df[['Min.Price', 'Max.Price']].isnull().sum())"
      ],
      "metadata": {
        "colab": {
          "base_uri": "https://localhost:8080/"
        },
        "id": "y8uUZm6bt7Yj",
        "outputId": "d31bb799-9a4d-41a5-d8be-ddbcf0039c1a"
      },
      "execution_count": 13,
      "outputs": [
        {
          "output_type": "stream",
          "name": "stdout",
          "text": [
            "\n",
            " Missing Values After \n",
            "Min.Price    0\n",
            "Max.Price    0\n",
            "dtype: int64\n"
          ]
        }
      ]
    },
    {
      "cell_type": "markdown",
      "source": [
        "### 3.How to get the rows of a dataframe with row sum > 100?\n",
        "df = pd.DataFrame(np.random.randint(10, 40, 60).reshape(-1, 4))"
      ],
      "metadata": {
        "id": "Uhi_I-PNulUN"
      }
    },
    {
      "cell_type": "code",
      "source": [
        "import pandas as pd\n",
        "import numpy as np\n",
        "\n",
        "\n",
        "df = pd.DataFrame(np.random.randint(10, 40, 60).reshape(-1, 4))\n",
        "print(\" Original DataFrame \")\n",
        "print(df)"
      ],
      "metadata": {
        "colab": {
          "base_uri": "https://localhost:8080/"
        },
        "id": "1N7jJJUfvK9V",
        "outputId": "38847c40-8365-4a14-93ee-a20a1061b7cd"
      },
      "execution_count": 14,
      "outputs": [
        {
          "output_type": "stream",
          "name": "stdout",
          "text": [
            " Original DataFrame \n",
            "     0   1   2   3\n",
            "0   12  26  24  19\n",
            "1   30  35  31  39\n",
            "2   33  13  34  26\n",
            "3   12  35  31  15\n",
            "4   24  22  35  20\n",
            "5   28  23  19  25\n",
            "6   33  36  27  23\n",
            "7   15  34  12  11\n",
            "8   16  21  13  24\n",
            "9   34  35  22  31\n",
            "10  10  24  10  20\n",
            "11  32  16  12  32\n",
            "12  12  13  18  20\n",
            "13  14  39  11  11\n",
            "14  20  12  12  28\n"
          ]
        }
      ]
    },
    {
      "cell_type": "code",
      "source": [
        "row_sums = df.sum(axis=1)\n",
        "\n",
        "filtered_df = df[row_sums > 100]\n",
        "\n",
        "print(\"\\n Filtered DataFrame (Row Sum > 100) \")\n",
        "print(filtered_df)"
      ],
      "metadata": {
        "colab": {
          "base_uri": "https://localhost:8080/"
        },
        "id": "yRk2mgSDvlxP",
        "outputId": "244c9336-151f-4fd6-84b8-14f46f5e20e9"
      },
      "execution_count": 16,
      "outputs": [
        {
          "output_type": "stream",
          "name": "stdout",
          "text": [
            "\n",
            " Filtered DataFrame (Row Sum > 100) \n",
            "    0   1   2   3\n",
            "1  30  35  31  39\n",
            "2  33  13  34  26\n",
            "4  24  22  35  20\n",
            "6  33  36  27  23\n",
            "9  34  35  22  31\n"
          ]
        }
      ]
    }
  ]
}