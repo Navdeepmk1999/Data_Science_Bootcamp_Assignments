{
  "nbformat": 4,
  "nbformat_minor": 0,
  "metadata": {
    "colab": {
      "provenance": []
    },
    "kernelspec": {
      "name": "python3",
      "display_name": "Python 3"
    },
    "language_info": {
      "name": "python"
    }
  },
  "cells": [
    {
      "cell_type": "markdown",
      "source": [
        "##Data Science Bootcamp -  Week 1 - Navdeep Mugathihalli Kumaregowda - nm4686 - N16462234\n",
        "\n",
        "## Take home exercises\n",
        "\n",
        "1. Write a program that takes a word as an input and print the number of vowels in the word.\n",
        "2. Iterate through the following list of animals and print each one in all caps.\n",
        "\n",
        "  animals=['tiger', 'elephant', 'monkey', 'zebra', 'panther']\n",
        "\n",
        "3. Write a program that iterates from 1 to 20, printing each number and whether it's odd or even.\n",
        "4. Write a program to check if a string is a palindrome or not.\n",
        "5. Write a function *sum_of_integers(a, b)* that takes two integers as input from the user and returns their sum. (optional)"
      ],
      "metadata": {
        "id": "Dtw2gPXQRmwb"
      }
    },
    {
      "cell_type": "markdown",
      "source": [
        "1. Write a program that takes a word as an input and print the number of vowels in the word."
      ],
      "metadata": {
        "id": "cMEVHpghTBq9"
      }
    },
    {
      "cell_type": "code",
      "execution_count": 20,
      "metadata": {
        "colab": {
          "base_uri": "https://localhost:8080/"
        },
        "id": "Z96AFEwVOhmr",
        "outputId": "3779b847-9e3e-46f1-b2d7-cf82bb76a7e0"
      },
      "outputs": [
        {
          "output_type": "stream",
          "name": "stdout",
          "text": [
            "Enter the word Encyclopedia\n",
            "Number of vowels in the given word are 5\n"
          ]
        }
      ],
      "source": [
        "word = input(\"Enter the word \")\n",
        "\n",
        "def word_count_vowels(word):\n",
        "  count = 0\n",
        "  vowels = \"aeioe\"\n",
        "#  word = lower().word\n",
        "  for letter in word:\n",
        "    if letter.lower() in vowels:\n",
        "      count = count + 1\n",
        "  print(\"Number of vowels in the given word are\", count)\n",
        "\n",
        "word_count_vowels(word)\n"
      ]
    },
    {
      "cell_type": "markdown",
      "source": [
        "2. Iterate through the following list of animals and print each one in all caps.\n",
        "animals=['tiger', 'elephant', 'monkey', 'zebra', 'panther']"
      ],
      "metadata": {
        "id": "R7CecRv_VWa8"
      }
    },
    {
      "cell_type": "code",
      "source": [
        "animals=['tiger', 'elephant', 'monkey', 'zebra', 'panther']\n",
        "\n",
        "for animal in animals:\n",
        "  print(animal.upper())"
      ],
      "metadata": {
        "colab": {
          "base_uri": "https://localhost:8080/"
        },
        "id": "qySZ4hpFVXee",
        "outputId": "83f66b80-e57e-444a-c860-5df955667950"
      },
      "execution_count": 21,
      "outputs": [
        {
          "output_type": "stream",
          "name": "stdout",
          "text": [
            "TIGER\n",
            "ELEPHANT\n",
            "MONKEY\n",
            "ZEBRA\n",
            "PANTHER\n"
          ]
        }
      ]
    },
    {
      "cell_type": "markdown",
      "source": [
        "3. Write a program that iterates from 1 to 20, printing each number and whether it's odd or even."
      ],
      "metadata": {
        "id": "KHEHZlM2YJqD"
      }
    },
    {
      "cell_type": "code",
      "source": [
        "for i in range(1, 21):\n",
        "  if i % 2 == 0:\n",
        "    print(i ,\"is even\")\n",
        "  else:\n",
        "    print(i ,\"is odd\")"
      ],
      "metadata": {
        "colab": {
          "base_uri": "https://localhost:8080/"
        },
        "id": "cGCizSGxYK5O",
        "outputId": "bdd0fd9f-0394-4c3b-b373-11669312d18c"
      },
      "execution_count": 24,
      "outputs": [
        {
          "output_type": "stream",
          "name": "stdout",
          "text": [
            "1 is odd\n",
            "2 is even\n",
            "3 is odd\n",
            "4 is even\n",
            "5 is odd\n",
            "6 is even\n",
            "7 is odd\n",
            "8 is even\n",
            "9 is odd\n",
            "10 is even\n",
            "11 is odd\n",
            "12 is even\n",
            "13 is odd\n",
            "14 is even\n",
            "15 is odd\n",
            "16 is even\n",
            "17 is odd\n",
            "18 is even\n",
            "19 is odd\n",
            "20 is even\n"
          ]
        }
      ]
    },
    {
      "cell_type": "markdown",
      "source": [
        "4. Write a program to check if a string is a palindrome or not."
      ],
      "metadata": {
        "id": "vNVO1MhzZkP9"
      }
    },
    {
      "cell_type": "code",
      "source": [
        "input_string = input(\"Enter a string: \")\n",
        "input_string = input_string.lower().replace(\" \", \"\")\n",
        "\n",
        "def palindrome_check(input_string):\n",
        "  if input_string == input_string[::-1]:\n",
        "    print(\"The string is a palindrome\")\n",
        "  else:\n",
        "    print(\"The string is not a palindrome\")\n",
        "\n",
        "palindrome_check(input_string)\n"
      ],
      "metadata": {
        "colab": {
          "base_uri": "https://localhost:8080/"
        },
        "id": "p2A-PS4WZljv",
        "outputId": "7de13b3b-14e3-4eaf-dd49-80872c26148a"
      },
      "execution_count": 32,
      "outputs": [
        {
          "output_type": "stream",
          "name": "stdout",
          "text": [
            "Enter a string: Malayalam\n",
            "The string is a palindrome\n"
          ]
        }
      ]
    },
    {
      "cell_type": "code",
      "source": [
        "input_string = input(\"Enter a string: \")\n",
        "input_string = input_string.lower().replace(\" \", \"\")\n",
        "\n",
        "def palindrome_check(input_string):\n",
        "  if input_string == input_string[::-1]:\n",
        "    print(\"The string is a palindrome\")\n",
        "  else:\n",
        "    print(\"The string is not a palindrome\")\n",
        "\n",
        "palindrome_check(input_string)\n"
      ],
      "metadata": {
        "colab": {
          "base_uri": "https://localhost:8080/"
        },
        "id": "lghncNC4biVD",
        "outputId": "ba8899af-135f-4b90-b54c-209870cf0e3f"
      },
      "execution_count": 33,
      "outputs": [
        {
          "output_type": "stream",
          "name": "stdout",
          "text": [
            "Enter a string: never odd or even\n",
            "The string is a palindrome\n"
          ]
        }
      ]
    },
    {
      "cell_type": "code",
      "source": [
        "input_string = input(\"Enter a string: \")\n",
        "input_string = input_string.lower().replace(\" \", \"\")\n",
        "\n",
        "def palindrome_check(input_string):\n",
        "  if input_string == input_string[::-1]:\n",
        "    print(\"The string is a palindrome\")\n",
        "  else:\n",
        "    print(\"The string is not a palindrome\")\n",
        "\n",
        "palindrome_check(input_string)\n"
      ],
      "metadata": {
        "colab": {
          "base_uri": "https://localhost:8080/"
        },
        "id": "_GqjjhVkbuaA",
        "outputId": "5fff023f-ab5c-442e-c010-3de529fb7cd4"
      },
      "execution_count": 34,
      "outputs": [
        {
          "output_type": "stream",
          "name": "stdout",
          "text": [
            "Enter a string: nyu\n",
            "The string is not a palindrome\n"
          ]
        }
      ]
    },
    {
      "cell_type": "markdown",
      "source": [
        "5. Write a function sum_of_integers(a, b) that takes two integers as input from the user and returns their sum. (optional)"
      ],
      "metadata": {
        "id": "uvQvIrE9a-zR"
      }
    },
    {
      "cell_type": "code",
      "source": [
        "a = int(input(\"Enter the value of a: \"))\n",
        "b = int(input(\"Enter the value of b: \"))\n",
        "\n",
        "def sum_of_integers(a, b):\n",
        "  return a + b\n",
        "\n",
        "sum_of_integers(a, b)"
      ],
      "metadata": {
        "colab": {
          "base_uri": "https://localhost:8080/"
        },
        "id": "FtzL5ohoahnd",
        "outputId": "b542aa64-f82c-4d34-ee84-b2519858f0f6"
      },
      "execution_count": 37,
      "outputs": [
        {
          "name": "stdout",
          "output_type": "stream",
          "text": [
            "Enter the value of a: 21\n",
            "Enter the value of b: 9\n"
          ]
        },
        {
          "output_type": "execute_result",
          "data": {
            "text/plain": [
              "30"
            ]
          },
          "metadata": {},
          "execution_count": 37
        }
      ]
    },
    {
      "cell_type": "markdown",
      "source": [
        "#### Practice questions:\n",
        "1. Display Fibonacci Series upto 10 terms\n",
        "2. Display numbers at the odd indices of a list"
      ],
      "metadata": {
        "id": "zSd0O1v8cu8J"
      }
    },
    {
      "cell_type": "code",
      "source": [
        "#Display Fibonacci Series upto 10 terms\n",
        "\n",
        "def fibonacci_series(n):\n",
        "  num1 = 0\n",
        "  num2 = 1\n",
        "  count = 0\n",
        "\n",
        "  if n <= 0:\n",
        "    print(\"Enter a positive number\")\n",
        "  elif n == 1:\n",
        "    print(num1)\n",
        "  else:\n",
        "    while count < n:\n",
        "      print(num1)\n",
        "      num3 = num1 + num2\n",
        "      num1 = num2\n",
        "      num2 = num3\n",
        "      count += 1\n",
        "\n",
        "fibonacci_series(10)\n",
        "\n",
        ""
      ],
      "metadata": {
        "colab": {
          "base_uri": "https://localhost:8080/"
        },
        "id": "b3NObZ8wbCK4",
        "outputId": "af31d74a-4df0-4908-f1dc-d2cd1a9ce900"
      },
      "execution_count": 40,
      "outputs": [
        {
          "output_type": "stream",
          "name": "stdout",
          "text": [
            "0\n",
            "1\n",
            "1\n",
            "2\n",
            "3\n",
            "5\n",
            "8\n",
            "13\n",
            "21\n",
            "34\n"
          ]
        }
      ]
    },
    {
      "cell_type": "code",
      "source": [
        "#Display numbers at the odd indices of a list\n",
        "\n",
        "list_1 = [1, 2, 3, 4, 5, 6, 7, 8, 9]\n",
        "list_2 = []\n",
        "\n",
        "def odd_indices(list_1):\n",
        "  for i in range(1, len(list_1):\n",
        "    if i % 2 != 0:\n",
        "      list_2.append(list_1[i])\n",
        "      print(list_2)\n",
        "\n",
        "odd_indices(list_1)"
      ],
      "metadata": {
        "colab": {
          "base_uri": "https://localhost:8080/"
        },
        "id": "l36EAjD8fr8R",
        "outputId": "6f30db96-cd84-4973-8a87-4187224da76c"
      },
      "execution_count": 44,
      "outputs": [
        {
          "output_type": "stream",
          "name": "stdout",
          "text": [
            "[2, 4, 6, 8]\n"
          ]
        }
      ]
    },
    {
      "cell_type": "code",
      "source": [
        "string = \"\"\"\n",
        "I have provided this text to provide tips on creating interesting paragraphs.\n",
        "First, start with a clear topic sentence that introduces the main idea.\n",
        "Then, support the topic sentence with specific details, examples, and evidence.\n",
        "Vary the sentence length and structure to keep the reader engaged.\n",
        "Finally, end with a strong concluding sentence that summarizes the main points.\n",
        "Remember, practice makes perfect!\n",
        "\"\"\"\n",
        "#Your task is to count the number of different words in this text\n",
        "\n",
        "def word_count(string):\n",
        "  words = string.split()\n",
        "  word_count = {}\n",
        "  for word in words:\n",
        "    if word in word_count:\n",
        "      word_count[word] += 1\n",
        "    else:\n",
        "      word_count[word] = 1\n",
        "  return word_count\n",
        "\n",
        "word_count(string)"
      ],
      "metadata": {
        "colab": {
          "base_uri": "https://localhost:8080/"
        },
        "id": "eGkJwkBQjE7A",
        "outputId": "fd9a594a-b274-4db6-a993-c0c081097e8e"
      },
      "execution_count": 46,
      "outputs": [
        {
          "output_type": "execute_result",
          "data": {
            "text/plain": [
              "{'I': 1,\n",
              " 'have': 1,\n",
              " 'provided': 1,\n",
              " 'this': 1,\n",
              " 'text': 1,\n",
              " 'to': 2,\n",
              " 'provide': 1,\n",
              " 'tips': 1,\n",
              " 'on': 1,\n",
              " 'creating': 1,\n",
              " 'interesting': 1,\n",
              " 'paragraphs.': 1,\n",
              " 'First,': 1,\n",
              " 'start': 1,\n",
              " 'with': 3,\n",
              " 'a': 2,\n",
              " 'clear': 1,\n",
              " 'topic': 2,\n",
              " 'sentence': 4,\n",
              " 'that': 2,\n",
              " 'introduces': 1,\n",
              " 'the': 5,\n",
              " 'main': 2,\n",
              " 'idea.': 1,\n",
              " 'Then,': 1,\n",
              " 'support': 1,\n",
              " 'specific': 1,\n",
              " 'details,': 1,\n",
              " 'examples,': 1,\n",
              " 'and': 2,\n",
              " 'evidence.': 1,\n",
              " 'Vary': 1,\n",
              " 'length': 1,\n",
              " 'structure': 1,\n",
              " 'keep': 1,\n",
              " 'reader': 1,\n",
              " 'engaged.': 1,\n",
              " 'Finally,': 1,\n",
              " 'end': 1,\n",
              " 'strong': 1,\n",
              " 'concluding': 1,\n",
              " 'summarizes': 1,\n",
              " 'points.': 1,\n",
              " 'Remember,': 1,\n",
              " 'practice': 1,\n",
              " 'makes': 1,\n",
              " 'perfect!': 1}"
            ]
          },
          "metadata": {},
          "execution_count": 46
        }
      ]
    }
  ]
}